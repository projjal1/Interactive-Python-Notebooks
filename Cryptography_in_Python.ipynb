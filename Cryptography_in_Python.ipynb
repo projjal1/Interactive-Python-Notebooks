{
  "nbformat": 4,
  "nbformat_minor": 0,
  "metadata": {
    "colab": {
      "name": "Cryptography-in-Python.ipynb",
      "provenance": [],
      "authorship_tag": "ABX9TyPTwnt8hn+IkLOwCOItVIk2",
      "include_colab_link": true
    },
    "kernelspec": {
      "name": "python3",
      "display_name": "Python 3"
    }
  },
  "cells": [
    {
      "cell_type": "markdown",
      "metadata": {
        "id": "view-in-github",
        "colab_type": "text"
      },
      "source": [
        "<a href=\"https://colab.research.google.com/github/projjal1/Interactive-Python-Notebooks/blob/main/Cryptography_in_Python.ipynb\" target=\"_parent\"><img src=\"https://colab.research.google.com/assets/colab-badge.svg\" alt=\"Open In Colab\"/></a>"
      ]
    },
    {
      "cell_type": "markdown",
      "metadata": {
        "id": "k5yyxXFjvKV9"
      },
      "source": [
        "# Python Cryptography Toolkit (pycrypto)\n",
        "This is a collection of both secure hash functions (such as SHA256 and RIPEMD160), and various encryption algorithms (AES, DES, RSA, ElGamal, etc.). The package is structured to make adding new modules easy. This section is essentially complete, and the software interface will almost certainly not change in an incompatible way in the future; all that remains to be done is to fix any bugs that show up.\n",
        "\n",
        "source: https://pypi.org/project/pycrypto/"
      ]
    },
    {
      "cell_type": "code",
      "metadata": {
        "colab": {
          "base_uri": "https://localhost:8080/"
        },
        "id": "oh1aA-gtvDZQ",
        "outputId": "4bd31ff2-f7e0-45fd-d2e7-bd77f99c3255"
      },
      "source": [
        "!pip install pycrypto"
      ],
      "execution_count": 1,
      "outputs": [
        {
          "output_type": "stream",
          "text": [
            "Collecting pycrypto\n",
            "\u001b[?25l  Downloading https://files.pythonhosted.org/packages/60/db/645aa9af249f059cc3a368b118de33889219e0362141e75d4eaf6f80f163/pycrypto-2.6.1.tar.gz (446kB)\n",
            "\r\u001b[K     |▊                               | 10kB 16.8MB/s eta 0:00:01\r\u001b[K     |█▌                              | 20kB 21.8MB/s eta 0:00:01\r\u001b[K     |██▏                             | 30kB 8.4MB/s eta 0:00:01\r\u001b[K     |███                             | 40kB 6.8MB/s eta 0:00:01\r\u001b[K     |███▊                            | 51kB 4.1MB/s eta 0:00:01\r\u001b[K     |████▍                           | 61kB 4.2MB/s eta 0:00:01\r\u001b[K     |█████▏                          | 71kB 4.6MB/s eta 0:00:01\r\u001b[K     |█████▉                          | 81kB 5.1MB/s eta 0:00:01\r\u001b[K     |██████▋                         | 92kB 5.0MB/s eta 0:00:01\r\u001b[K     |███████▍                        | 102kB 5.3MB/s eta 0:00:01\r\u001b[K     |████████                        | 112kB 5.3MB/s eta 0:00:01\r\u001b[K     |████████▉                       | 122kB 5.3MB/s eta 0:00:01\r\u001b[K     |█████████▌                      | 133kB 5.3MB/s eta 0:00:01\r\u001b[K     |██████████▎                     | 143kB 5.3MB/s eta 0:00:01\r\u001b[K     |███████████                     | 153kB 5.3MB/s eta 0:00:01\r\u001b[K     |███████████▊                    | 163kB 5.3MB/s eta 0:00:01\r\u001b[K     |████████████▌                   | 174kB 5.3MB/s eta 0:00:01\r\u001b[K     |█████████████▏                  | 184kB 5.3MB/s eta 0:00:01\r\u001b[K     |██████████████                  | 194kB 5.3MB/s eta 0:00:01\r\u001b[K     |██████████████▊                 | 204kB 5.3MB/s eta 0:00:01\r\u001b[K     |███████████████▍                | 215kB 5.3MB/s eta 0:00:01\r\u001b[K     |████████████████▏               | 225kB 5.3MB/s eta 0:00:01\r\u001b[K     |█████████████████               | 235kB 5.3MB/s eta 0:00:01\r\u001b[K     |█████████████████▋              | 245kB 5.3MB/s eta 0:00:01\r\u001b[K     |██████████████████▍             | 256kB 5.3MB/s eta 0:00:01\r\u001b[K     |███████████████████             | 266kB 5.3MB/s eta 0:00:01\r\u001b[K     |███████████████████▉            | 276kB 5.3MB/s eta 0:00:01\r\u001b[K     |████████████████████▋           | 286kB 5.3MB/s eta 0:00:01\r\u001b[K     |█████████████████████▎          | 296kB 5.3MB/s eta 0:00:01\r\u001b[K     |██████████████████████          | 307kB 5.3MB/s eta 0:00:01\r\u001b[K     |██████████████████████▊         | 317kB 5.3MB/s eta 0:00:01\r\u001b[K     |███████████████████████▌        | 327kB 5.3MB/s eta 0:00:01\r\u001b[K     |████████████████████████▎       | 337kB 5.3MB/s eta 0:00:01\r\u001b[K     |█████████████████████████       | 348kB 5.3MB/s eta 0:00:01\r\u001b[K     |█████████████████████████▊      | 358kB 5.3MB/s eta 0:00:01\r\u001b[K     |██████████████████████████▍     | 368kB 5.3MB/s eta 0:00:01\r\u001b[K     |███████████████████████████▏    | 378kB 5.3MB/s eta 0:00:01\r\u001b[K     |████████████████████████████    | 389kB 5.3MB/s eta 0:00:01\r\u001b[K     |████████████████████████████▋   | 399kB 5.3MB/s eta 0:00:01\r\u001b[K     |█████████████████████████████▍  | 409kB 5.3MB/s eta 0:00:01\r\u001b[K     |██████████████████████████████  | 419kB 5.3MB/s eta 0:00:01\r\u001b[K     |██████████████████████████████▉ | 430kB 5.3MB/s eta 0:00:01\r\u001b[K     |███████████████████████████████▋| 440kB 5.3MB/s eta 0:00:01\r\u001b[K     |████████████████████████████████| 450kB 5.3MB/s \n",
            "\u001b[?25hBuilding wheels for collected packages: pycrypto\n",
            "  Building wheel for pycrypto (setup.py) ... \u001b[?25l\u001b[?25hdone\n",
            "  Created wheel for pycrypto: filename=pycrypto-2.6.1-cp36-cp36m-linux_x86_64.whl size=499939 sha256=6627706e428a9ced32c0887645d5aad5556ed1d1b5f0e7e77a40d351fe5263b0\n",
            "  Stored in directory: /root/.cache/pip/wheels/27/02/5e/77a69d0c16bb63c6ed32f5386f33a2809c94bd5414a2f6c196\n",
            "Successfully built pycrypto\n",
            "Installing collected packages: pycrypto\n",
            "Successfully installed pycrypto-2.6.1\n"
          ],
          "name": "stdout"
        }
      ]
    },
    {
      "cell_type": "markdown",
      "metadata": {
        "id": "QapxsWt9vUHV"
      },
      "source": [
        "Importing required modules for hashing, encryption respectively."
      ]
    },
    {
      "cell_type": "code",
      "metadata": {
        "id": "0SkD0c3HvSnG"
      },
      "source": [
        "from Crypto.Hash import *\n",
        "from Crypto.Cipher import *"
      ],
      "execution_count": 2,
      "outputs": []
    },
    {
      "cell_type": "markdown",
      "metadata": {
        "id": "EPnjCNngvuWX"
      },
      "source": [
        "Let us take binary encoded message for cryptographic operations."
      ]
    },
    {
      "cell_type": "code",
      "metadata": {
        "id": "UNH6eOrlv4Ar"
      },
      "source": [
        "msg=b\"Lorem Ipsum is simply dummy text of the printing and typesetting industry. Lorem Ipsum has been the industry's standard dummy text ever since the 1500s, when an unknown printer took a galley of type and scrambled it to make a type specimen book. It has survived not only five centuries, but also the leap into electronic typesetting, remaining essentially unchanged. It was popularised in the 1960s with the release of Letraset sheets containing Lorem Ipsum passages, and more recently with desktop publishing software like Aldus PageMaker including versions of Lorem Ipsum.\""
      ],
      "execution_count": 4,
      "outputs": []
    },
    {
      "cell_type": "markdown",
      "metadata": {
        "id": "V6Ml3vIxvlQH"
      },
      "source": [
        "Now, lets perform SHA256 encoding on strings."
      ]
    },
    {
      "cell_type": "code",
      "metadata": {
        "colab": {
          "base_uri": "https://localhost:8080/"
        },
        "id": "q1fGFx5HvtX-",
        "outputId": "1091a7b5-ab40-4b44-98b2-152ab8f8502e"
      },
      "source": [
        "#Creating new hash object\n",
        "hash256=SHA256.new()\n",
        "#Feeding it with the message\n",
        "hash256.update(msg)\n",
        "#Now display encoded string\n",
        "hash256.digest()"
      ],
      "execution_count": 5,
      "outputs": [
        {
          "output_type": "execute_result",
          "data": {
            "text/plain": [
              "b's!4\\x8c\\x88\\x94g\\x84G\\xb5L\\x88\\x8f\\xdb\\xc4\\xe4\\xb8%\\xbfM\\x1e\\xb0\\xcf\\xb2xt(j#\\xea\\x9f\\xd2'"
            ]
          },
          "metadata": {
            "tags": []
          },
          "execution_count": 5
        }
      ]
    },
    {
      "cell_type": "markdown",
      "metadata": {
        "id": "xqBqcCdhwurt"
      },
      "source": [
        "Now, lets perform SHA512 encoding on strings."
      ]
    },
    {
      "cell_type": "code",
      "metadata": {
        "colab": {
          "base_uri": "https://localhost:8080/"
        },
        "id": "msb0Xrhgwtsn",
        "outputId": "6c3a2179-9219-41ef-aed7-0ddd80a3f961"
      },
      "source": [
        "#Creating new hash object\n",
        "hash512=SHA512.new()\n",
        "#Feeding it with the message\n",
        "hash512.update(msg)\n",
        "#Now display encoded string\n",
        "hash512.digest()"
      ],
      "execution_count": 6,
      "outputs": [
        {
          "output_type": "execute_result",
          "data": {
            "text/plain": [
              "b'\\x1f\\xdb\\x16\\xc5\\xae\\x1dHq\\x88\\xab\\xf3j\\x1e\\xb0\\x05\\x1d\\xd1k\\xa4S\\xd9x\\x93\\xc3\\xa6\\xc6B\\x80\\x9a\\xc4\\x95T.q\\x7f3T[\\x1d\\xf4\\x08\\x1blS\\xbd\\xd4\\x95[\\x018\\xad\\x16`\\x01oE\\x0b\\x97-f\\x1d\\xf4OB'"
            ]
          },
          "metadata": {
            "tags": []
          },
          "execution_count": 6
        }
      ]
    },
    {
      "cell_type": "markdown",
      "metadata": {
        "id": "BUZhgINBw7ij"
      },
      "source": [
        "Implementing AES encryption algorithm."
      ]
    },
    {
      "cell_type": "code",
      "metadata": {
        "colab": {
          "base_uri": "https://localhost:8080/"
        },
        "id": "m1OMn7DQw7Oc",
        "outputId": "0eff7492-0728-4b99-94ec-41692032bddd"
      },
      "source": [
        "#Creating AES object\n",
        "obj=AES.new('This is a key123', AES.MODE_CBC, 'This is an IV456')\n",
        "#Now encrypting the message using AES \n",
        "ciphertext=obj.encrypt('The answer is no')\n",
        "#Now let's have a look at ciphertext\n",
        "ciphertext"
      ],
      "execution_count": 8,
      "outputs": [
        {
          "output_type": "execute_result",
          "data": {
            "text/plain": [
              "b'\\xd6\\x83\\x8dd!VT\\x92\\xaa`A\\x05\\xe0\\x9b\\x8b\\xf1'"
            ]
          },
          "metadata": {
            "tags": []
          },
          "execution_count": 8
        }
      ]
    },
    {
      "cell_type": "markdown",
      "metadata": {
        "id": "N3L5P1F306s2"
      },
      "source": [
        "Now we will decrypt the AES encrypted ciphertext"
      ]
    },
    {
      "cell_type": "code",
      "metadata": {
        "colab": {
          "base_uri": "https://localhost:8080/"
        },
        "id": "pfOhY8gX0571",
        "outputId": "83ca0e39-196e-4f28-aa6a-29470552faa6"
      },
      "source": [
        "#Initializing AES object\n",
        "obj2 = AES.new('This is a key123', AES.MODE_CBC, 'This is an IV456')\n",
        "#Performing decryption \n",
        "obj2.decrypt(ciphertext)"
      ],
      "execution_count": 10,
      "outputs": [
        {
          "output_type": "execute_result",
          "data": {
            "text/plain": [
              "b'The answer is no'"
            ]
          },
          "metadata": {
            "tags": []
          },
          "execution_count": 10
        }
      ]
    },
    {
      "cell_type": "markdown",
      "metadata": {
        "id": "w1K942k215YD"
      },
      "source": [
        "Now we will perform RSA encryption on the msg"
      ]
    },
    {
      "cell_type": "code",
      "metadata": {
        "id": "DDL9NyND1-dm"
      },
      "source": [
        "#importing module \n",
        "from Crypto.PublicKey import RSA\n",
        "#generating key of 2048 bit\n",
        "key=RSA.generate(2048)\n",
        "#Writing to file\n",
        "f = open('mykey.pem','wb')\n",
        "#Exporting key\n",
        "f.write(key.exportKey('PEM'))\n",
        "f.close()"
      ],
      "execution_count": 12,
      "outputs": []
    },
    {
      "cell_type": "markdown",
      "metadata": {
        "id": "5x-oKM4A2zcR"
      },
      "source": [
        "Let's have a look at the key"
      ]
    },
    {
      "cell_type": "code",
      "metadata": {
        "colab": {
          "base_uri": "https://localhost:8080/"
        },
        "id": "BZdjyK_v2zOG",
        "outputId": "2677d309-3ce4-4bd5-a7c8-2f2d6245bcec"
      },
      "source": [
        "print(\"Key has private key: \",key.has_private())\n",
        "print(\"Public key: \",key.publickey)"
      ],
      "execution_count": 13,
      "outputs": [
        {
          "output_type": "stream",
          "text": [
            "Key has private key:  True\n",
            "Public key:  <bound method _RSAobj.publickey of <_RSAobj @0x7f34a2ee0198 n(2048),e,d,p,q,u,private>>\n"
          ],
          "name": "stdout"
        }
      ]
    },
    {
      "cell_type": "code",
      "metadata": {
        "colab": {
          "base_uri": "https://localhost:8080/"
        },
        "id": "8gcwwjk13Bx5",
        "outputId": "a1261f65-b56f-4d2e-ae23-d8c2a2e0fdb8"
      },
      "source": [
        "#Importing from cipher module\n",
        "from Crypto.Cipher import PKCS1_v1_5\n",
        "from Crypto.Hash import SHA\n",
        "\n",
        "#Message \n",
        "msg=b\"Checking out cryptography.\"\n",
        "\n",
        "#hash object\n",
        "h=SHA.new(msg)\n",
        "\n",
        "#Cipher object\n",
        "cipher = PKCS1_v1_5.new(key)\n",
        "#Ciphertext\n",
        "ciphertext = cipher.encrypt(msg+h.digest())\n",
        "\n",
        "ciphertext"
      ],
      "execution_count": 19,
      "outputs": [
        {
          "output_type": "execute_result",
          "data": {
            "text/plain": [
              "b'}\\xce\\xb2\\xb5h\\x0f\\x92\\xdb:\\x10\\xffU\\xfds\\x98\\xf3PcOd\\xf6\\xba\\xf7\\xbd\\xcc.{\\xbf\\x97\\xb7k\\x93\\t\\xac\\xb43\\xd5p\\x94\\xfb\\xd0\\xb8\\xfc\\x94\\x08\\x9bK\\x1cA\\xf8KTK\\\\\\xfb\\xaf\\xcd\\xfbG*8Qu\\x92\\x9do\\xfc\\xa7\\xad\\x87\\x11z\\xbd\\x8d\\xc9n\\xe4Fd)\\x96\\x99\\x14\\x89*e\\xc7\\xe7V\\xec=_\\xf8j/\\xde\\xab%\\x90!\\x91]3\\x00\\xd2\\xf0S\\x90{@\\x92\\xfd\\t\\xed\\xe5\\x16\\xbd\\x90=G\\x08e\\x9a^\\xda&\\xa6\\x8eQ\\xb0\\xff\\xb94\\xd21\\x81\\xae\\xfe\\xc5d\\x08\\\\Y\\xb9\\x1e\\xb8Y!{\\xf3\\xa9\\x02b\\xa3\\xf4\\xcdJ\\xe7u\\x95\\xf5\\xd0h\\x0e{\\xe3\\xe0\\x8b\\xb5o\\xac\\xed&\\x83qj\\x89CZcn4_\\xddE\\xd5\\x05@\\xea\\x144\\xea\\xda\\xccgg^\\xf6\\x19\\xc0T\\x89\\xc3\\xe9\\x13\\x93\\x19\\xe9GdW\\t\\x1e\\x89\\xff\\x83\\xe3=\\x99\\xeb*\\xd3_/R%\\xff\\x95\\xdd\\xf9X\\x0ep\\xcd\\xbe\\xa4;e\\x04$\\xa5f\\x86\\x86\\x8e\\x9a\\x86$\\xe3jR\\xf1\\x83cd\\xdf'"
            ]
          },
          "metadata": {
            "tags": []
          },
          "execution_count": 19
        }
      ]
    },
    {
      "cell_type": "markdown",
      "metadata": {
        "id": "YAkU3if34wt6"
      },
      "source": [
        "Performing decryption using private key"
      ]
    },
    {
      "cell_type": "code",
      "metadata": {
        "id": "SH5XAhj94ueU"
      },
      "source": [
        "#Importing Random module for salt generation\n",
        "from Crypto import Random\n",
        "#Generating sentinels\n",
        "dsize = SHA.digest_size\n",
        "sentinel = Random.new().read(15+dsize)"
      ],
      "execution_count": 20,
      "outputs": []
    },
    {
      "cell_type": "code",
      "metadata": {
        "colab": {
          "base_uri": "https://localhost:8080/"
        },
        "id": "Z5eUk9CJ4udb",
        "outputId": "6fc064a6-3eb0-45dc-fdcc-edc983611b2d"
      },
      "source": [
        "#Finally decrypting the text\n",
        "message = cipher.decrypt(ciphertext, sentinel)\n",
        "message"
      ],
      "execution_count": 22,
      "outputs": [
        {
          "output_type": "execute_result",
          "data": {
            "text/plain": [
              "b\"Checking out cryptography.%\\x02\\x82\\x16,\\x191}D;\\xe2{\\xff'?\\n\\x17\\x17\\x1f8\""
            ]
          },
          "metadata": {
            "tags": []
          },
          "execution_count": 22
        }
      ]
    }
  ]
}