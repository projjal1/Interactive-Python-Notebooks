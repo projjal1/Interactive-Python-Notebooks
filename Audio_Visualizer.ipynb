{
  "nbformat": 4,
  "nbformat_minor": 0,
  "metadata": {
    "colab": {
      "name": "Audio-Visualizer.ipynb",
      "provenance": [],
      "authorship_tag": "ABX9TyNgfdj/xj8o7Gi1ugxUbMXN"
    },
    "kernelspec": {
      "name": "python3",
      "display_name": "Python 3"
    }
  },
  "cells": [
    {
      "cell_type": "markdown",
      "metadata": {
        "id": "EYPFjXdWNegs"
      },
      "source": [
        "# Installing librosa module\n",
        "librosa is a python package for music and audio analysis. It provides the building blocks necessary to create music information retrieval systems.\n",
        "For more info https://librosa.org/doc/latest/index.html"
      ]
    },
    {
      "cell_type": "code",
      "metadata": {
        "id": "zI0GKvdXMWpS"
      },
      "source": [
        "!pip install librosa"
      ],
      "execution_count": null,
      "outputs": []
    },
    {
      "cell_type": "markdown",
      "metadata": {
        "id": "t0r3abjwNsVy"
      },
      "source": [
        "Importing all the required modules for the visualization task."
      ]
    },
    {
      "cell_type": "code",
      "metadata": {
        "id": "C1DxZlxCMnRq"
      },
      "source": [
        "import librosa.display\n",
        "import librosa"
      ],
      "execution_count": 2,
      "outputs": []
    },
    {
      "cell_type": "markdown",
      "metadata": {
        "id": "UmZ_hkFHNy1_"
      },
      "source": [
        "Setting the path for the filename. \n",
        "\n",
        "I have use \"Heal the World\" by Michael Jaskson from the website https://qoret.com/mp3-download/michael-jackson-heal-the-world/#google_vignette"
      ]
    },
    {
      "cell_type": "code",
      "metadata": {
        "id": "Zx_ezDPNMsSc"
      },
      "source": [
        "filename=\"Heal_The_World.mp3\""
      ],
      "execution_count": 3,
      "outputs": []
    },
    {
      "cell_type": "markdown",
      "metadata": {
        "id": "Px3-mu62OBfR"
      },
      "source": [
        "# Loading audio file \n",
        "Here I am loading the audio .mp3 file into librosa.\n",
        "\n",
        "sr denote Sample rate\n",
        "\n",
        "duration represents duration of track under consideration."
      ]
    },
    {
      "cell_type": "code",
      "metadata": {
        "id": "THZcm7p3NFf3"
      },
      "source": [
        "data,sample_rate1 = librosa.load(filename, sr=22050, mono=True, offset=0.0, duration=50, res_type='kaiser_best')"
      ],
      "execution_count": 4,
      "outputs": []
    },
    {
      "cell_type": "markdown",
      "metadata": {
        "id": "VG6axtzHOVe4"
      },
      "source": [
        "Plotting the nature of the audio by using librosa's display module."
      ]
    },
    {
      "cell_type": "code",
      "metadata": {
        "colab": {
          "base_uri": "https://localhost:8080/",
          "height": 299
        },
        "id": "x5SS-eDENL5t",
        "outputId": "4769b236-fe90-49af-9802-de6508740e0f"
      },
      "source": [
        "librosa.display.waveplot(data,sr=sample_rate1, max_points=50000.0, x_axis='time', offset=0.0, max_sr=1000)"
      ],
      "execution_count": 7,
      "outputs": [
        {
          "output_type": "execute_result",
          "data": {
            "text/plain": [
              "<matplotlib.collections.PolyCollection at 0x7f8b2bc917b8>"
            ]
          },
          "metadata": {
            "tags": []
          },
          "execution_count": 7
        },
        {
          "output_type": "display_data",
          "data": {
            "image/png": "[encoded data removed]",
            "text/plain": [
              "<Figure size 432x288 with 1 Axes>"
            ]
          },
          "metadata": {
            "tags": [],
            "needs_background": "light"
          }
        }
      ]
    }
  ]
}